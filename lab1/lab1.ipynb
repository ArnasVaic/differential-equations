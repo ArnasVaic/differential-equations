{
 "cells": [
  {
   "cell_type": "markdown",
   "metadata": {},
   "source": [
    "## 2. Ortogonalūs krypčių laukai"
   ]
  },
  {
   "cell_type": "markdown",
   "metadata": {},
   "source": [
    "Dviejų pirmos eilės diferencialinių lygčių su ortogonaliais krypčių laukais integralinių kreivių (ar bent pačių krypčių laukų) braižymas. Ortogonalūs krypčių laukai apibrėžti antros paskaitos 9-oje skaidrėje: uždavus vieną diferencialinę lygtį $\\ y'=F(x,y),\\ $ kitos diferencinės lygties $\\ F(x,y)\\,y'+1=0\\ $ krypčių laukas bus ortogonalus (t.y., $90^o$ statmenas duotos lygties krypčių laukui) kiekviename taške.\n",
    "\n",
    "Praktiškai tikimasi arba dviejų (statmenų) krypčių laukų braižymo vienoje $(x,y)$-srityje skirtingomis spalvomis, arba panašiai, dviejų integralinių kreivių šeimų braižymo vienoje $(x,y)$-srityje."
   ]
  },
  {
   "cell_type": "code",
   "execution_count": 265,
   "metadata": {},
   "outputs": [
    {
     "data": {
      "text/plain": [
       "{'divide': 'ignore', 'over': 'warn', 'under': 'ignore', 'invalid': 'warn'}"
      ]
     },
     "execution_count": 265,
     "metadata": {},
     "output_type": "execute_result"
    }
   ],
   "source": [
    "import numpy as np\n",
    "import matplotlib.pyplot as plt\n",
    "import scipy.integrate as sc\n",
    "import itertools\n",
    "\n",
    "np.seterr(divide=\"ignore\")"
   ]
  },
  {
   "cell_type": "code",
   "execution_count": 266,
   "metadata": {},
   "outputs": [],
   "source": [
    "def cauchy_problem(F, x0, y0, x, y_divergence_threshold = 5):\n",
    "    N = x.size - 1 \n",
    "    N0 = round(N * (x0 - x[0]) / (x[-1] - x[0]))\n",
    "    x = x + (x0 - x[N0])\n",
    "\n",
    "    print(\"N0 = \", N0)\n",
    "\n",
    "    # points that were calculated numerically integrating \n",
    "    # in the positive direction of given x values\n",
    "    positive_points = []\n",
    "    \n",
    "    for point in zip(x[N0 + 1:], sc.odeint(F, y0, x[N0 + 1:]).flatten()):\n",
    "\n",
    "        positive_points.append(point)\n",
    "\n",
    "        # if y values go beyond some point, stop plotting\n",
    "        if(abs(point[1]) > y_divergence_threshold):\n",
    "            break\n",
    "\n",
    "    # points that were calculated numerically integrating \n",
    "    # in the negative direction of given x values\n",
    "    negative_points = []\n",
    "    for point in list(zip(x[N0 - 1::-1], sc.odeint(F, y0, x[N0 - 1::-1]).flatten())):\n",
    "\n",
    "        negative_points.append(point)\n",
    "\n",
    "        # if y values go beyond some point, stop plotting\n",
    "        if(abs(point[1]) > y_divergence_threshold):\n",
    "            break\n",
    "\n",
    "    negative_points.reverse()\n",
    "    zipped = negative_points + positive_points\n",
    "    unzipped = list(zip(*zipped))\n",
    "    xs, ys = unzipped\n",
    "\n",
    "    print(\"xs =\", xs)\n",
    "    print(\"ys =\", ys)\n",
    "\n",
    "    return (xs, ys)\n",
    "\n",
    "#cauchy_problem(lambda x, y: 1 + x + y, 1/2, 1/2, np.linspace(-2, 2, 5), 10)"
   ]
  },
  {
   "cell_type": "code",
   "execution_count": 267,
   "metadata": {},
   "outputs": [],
   "source": [
    "#def euler_int(F, p, N):\n",
    "#    dir = F(*p)\n",
    "\n",
    "#euler_int(lambda x, y: -x / y, p = (0, 1), 20)"
   ]
  },
  {
   "cell_type": "code",
   "execution_count": 268,
   "metadata": {},
   "outputs": [],
   "source": [
    "def visualize(F, bounds = [(-1,1), (-1,1)], samples = 20, p = (-0.5,-0.5)):\n",
    "    X = np.linspace(bounds[0][0], bounds[0][1], samples)\n",
    "    Y = np.linspace(bounds[1][0], bounds[1][1], samples)\n",
    "\n",
    "    XS, YS = np.meshgrid(X, Y);\n",
    "\n",
    "    FY = F(XS, YS)\n",
    "    \n",
    "    FX = 1 / np.sqrt(1 + FY**2)\n",
    "    FY = FX * FY\n",
    "\n",
    "    XP = np.linspace(bounds[0][0], bounds[0][1], 2 * samples)\n",
    "    p1 = cauchy_problem(lambda y, x: F(x, y), *p, XP, min(abs(bounds[1][0]), abs(bounds[1][1]))\n",
    "    p2 = cauchy_problem(lambda y, x: -1/F(x, y), *p, XP)\n",
    "\n",
    "    plt.figure(figsize = (6,6))\n",
    "    \n",
    "    plt.quiver(XS, YS, FX, FY, color=\"red\", pivot=\"mid\", headaxislength=0, headwidth=0, headlength=0);\n",
    "    plt.quiver(XS, YS, -FY, FX, color=\"blue\", pivot=\"mid\", headaxislength=0, headwidth=0, headlength=0);\n",
    "\n",
    "    plt.plot(*p1, color=\"red\")\n",
    "\n",
    "    # visualizing solution of orthogonal direction field is not visually appealing\n",
    "    plt.plot(*p2, color=\"blue\")\n",
    "\n",
    "    margin = 0.1\n",
    "    plt.xlim([bounds[0][0] - margin, bounds[0][1] + margin])\n",
    "    plt.ylim([bounds[1][0] - margin, bounds[1][1] + margin])\n",
    "\n",
    "    plt.show()"
   ]
  },
  {
   "cell_type": "code",
   "execution_count": 269,
   "metadata": {},
   "outputs": [
    {
     "name": "stdout",
     "output_type": "stream",
     "text": [
      "N0 =  4\n",
      "xs = (-2.8000000000000003, -1.2000000000000002, 0.40000000000000036, 3.5999999999999996)\n",
      "ys = (5.840000020922124, 2.640000020922121, 2.0, 2.0)\n",
      "N0 =  4\n",
      "xs = (-1.2000000000000002, 0.40000000000000036, 3.5999999999999996)\n",
      "ys = (37.05430986731444, 2.0, 2.0)\n"
     ]
    },
    {
     "name": "stderr",
     "output_type": "stream",
     "text": [
      "c:\\Users\\Arnas\\AppData\\Local\\Programs\\Python\\Python311\\Lib\\site-packages\\scipy\\integrate\\_odepack_py.py:248: ODEintWarning: Excess work done on this call (perhaps wrong Dfun type). Run with full_output = 1 to get quantitative information.\n",
      "  warnings.warn(warning_msg, ODEintWarning)\n"
     ]
    },
    {
     "data": {
      "image/png": "[encoded data removed]",
      "text/plain": [
       "<Figure size 600x600 with 1 Axes>"
      ]
     },
     "metadata": {},
     "output_type": "display_data"
    }
   ],
   "source": [
    "# change parameters here\n",
    "visualize(\n",
    "    lambda x, y: x,\n",
    "    bounds = [(-4,4), (-4,4)],\n",
    "    p = (2,2),\n",
    "    samples=3)"
   ]
  }
 ],
 "metadata": {
  "kernelspec": {
   "display_name": "Python 3",
   "language": "python",
   "name": "python3"
  },
  "language_info": {
   "codemirror_mode": {
    "name": "ipython",
    "version": 3
   },
   "file_extension": ".py",
   "mimetype": "text/x-python",
   "name": "python",
   "nbconvert_exporter": "python",
   "pygments_lexer": "ipython3",
   "version": "3.11.2"
  }
 },
 "nbformat": 4,
 "nbformat_minor": 2
}
