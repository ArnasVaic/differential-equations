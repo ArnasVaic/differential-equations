{
 "cells": [
  {
   "cell_type": "markdown",
   "metadata": {},
   "source": [
    "# Užduotys"
   ]
  },
  {
   "cell_type": "markdown",
   "metadata": {},
   "source": [
    "1. Apibrežkite polinomus $\\ P=(x^4+12x^3y+14x^2y^2-12xy^3+y^4)^3\\ $ ir $\\ Q=x^5y^5\\,(x^2+11xy-y^2)\\ $, ir juos išskleiskite.\n",
    "\n",
    "2. Tęsdami, faktorizuokite polinomą $\\ P+1728\\,Q$. Turėtų gautis pilnas kvadratas.\n",
    "\n",
    "3. Išskleiskite $\\ \\sin(2x+y)$"
   ]
  },
  {
   "cell_type": "code",
   "execution_count": 13,
   "metadata": {},
   "outputs": [],
   "source": [
    "import sympy as sp \n",
    "\n",
    "x, y = sp.symbols(\"x y\")\n",
    "P = (x ** 4 + 12 * x ** 3 * y + 14 * x ** 2 * y ** 2 - 12 * x * y ** 3 + y ** 4) ** 3\n",
    "Q = x ** 5 * y ** 5 * (x ** 2 + 11 * x * y - y ** 2)"
   ]
  },
  {
   "cell_type": "code",
   "execution_count": 19,
   "metadata": {},
   "outputs": [
    {
     "data": {
      "text/latex": [
       "$\\displaystyle x^{12} + 36 x^{11} y + 474 x^{10} y^{2} + 2700 x^{9} y^{3} + 5775 x^{8} y^{4} + 936 x^{7} y^{5} - 8404 x^{6} y^{6} - 936 x^{5} y^{7} + 5775 x^{4} y^{8} - 2700 x^{3} y^{9} + 474 x^{2} y^{10} - 36 x y^{11} + y^{12}$"
      ],
      "text/plain": [
       "x**12 + 36*x**11*y + 474*x**10*y**2 + 2700*x**9*y**3 + 5775*x**8*y**4 + 936*x**7*y**5 - 8404*x**6*y**6 - 936*x**5*y**7 + 5775*x**4*y**8 - 2700*x**3*y**9 + 474*x**2*y**10 - 36*x*y**11 + y**12"
      ]
     },
     "execution_count": 19,
     "metadata": {},
     "output_type": "execute_result"
    }
   ],
   "source": [
    "P.expand()"
   ]
  },
  {
   "cell_type": "code",
   "execution_count": 20,
   "metadata": {},
   "outputs": [
    {
     "data": {
      "text/latex": [
       "$\\displaystyle x^{7} y^{5} + 11 x^{6} y^{6} - x^{5} y^{7}$"
      ],
      "text/plain": [
       "x**7*y**5 + 11*x**6*y**6 - x**5*y**7"
      ]
     },
     "execution_count": 20,
     "metadata": {},
     "output_type": "execute_result"
    }
   ],
   "source": [
    "Q.expand()"
   ]
  },
  {
   "cell_type": "code",
   "execution_count": 17,
   "metadata": {},
   "outputs": [
    {
     "data": {
      "text/latex": [
       "$\\displaystyle \\left(x^{2} + y^{2}\\right)^{2} \\left(x^{4} + 18 x^{3} y + 74 x^{2} y^{2} - 18 x y^{3} + y^{4}\\right)^{2}$"
      ],
      "text/plain": [
       "(x**2 + y**2)**2*(x**4 + 18*x**3*y + 74*x**2*y**2 - 18*x*y**3 + y**4)**2"
      ]
     },
     "execution_count": 17,
     "metadata": {},
     "output_type": "execute_result"
    }
   ],
   "source": [
    "(P + 1728 * Q).factor()"
   ]
  },
  {
   "cell_type": "code",
   "execution_count": 18,
   "metadata": {},
   "outputs": [
    {
     "data": {
      "text/latex": [
       "$\\displaystyle \\sin{\\left(2 x + y \\right)}$"
      ],
      "text/plain": [
       "sin(2*x + y)"
      ]
     },
     "execution_count": 18,
     "metadata": {},
     "output_type": "execute_result"
    }
   ],
   "source": [
    "(sp.sin(2 * x + y)).expand()"
   ]
  }
 ],
 "metadata": {
  "kernelspec": {
   "display_name": "Python 3 (ipykernel)",
   "language": "python",
   "name": "python3"
  },
  "language_info": {
   "codemirror_mode": {
    "name": "ipython",
    "version": 3
   },
   "file_extension": ".py",
   "mimetype": "text/x-python",
   "name": "python",
   "nbconvert_exporter": "python",
   "pygments_lexer": "ipython3",
   "version": "3.11.2"
  }
 },
 "nbformat": 4,
 "nbformat_minor": 4
}
